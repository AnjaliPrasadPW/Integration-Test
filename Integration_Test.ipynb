{
  "nbformat": 4,
  "nbformat_minor": 0,
  "metadata": {
    "colab": {
      "provenance": []
    },
    "kernelspec": {
      "name": "python3",
      "display_name": "Python 3"
    },
    "language_info": {
      "name": "python"
    }
  },
  "cells": [
    {
      "cell_type": "markdown",
      "source": [
        "\n",
        "Q1. Set up an environment for integration testing and write test cases that validate the interaction between different components of a system?\n",
        "\n",
        "Ans: Setting up Integration Tests means validating how different parts of your application (like APIs, database, middleware, etc.) work together. Here’s a complete example using Node.js, Express, MongoDB, and Jest with Supertest to show how to set up and write integration test cases.\n",
        "\n",
        "--supertest: Sends requests to your Express app without needing to start the server.\n",
        "--mongodb-memory-server: Spins up a temporary in-memory MongoDB instance for fast, isolated tests.\n",
        "--beforeAll/afterAll: Setup and teardown of MongoDB connection.\n",
        "--afterEach: Cleans the DB between test cases to avoid datapollution.\n",
        "\n",
        "1.Environment Setup\n",
        "Install necessary packages:\n",
        "npm install --save-dev jest supertest mongodb-memory-server"
      ],
      "metadata": {
        "id": "24PJbgoYgS4g"
      }
    },
    {
      "cell_type": "code",
      "source": [],
      "metadata": {
        "id": "3ifjuOzdgoYw"
      },
      "execution_count": null,
      "outputs": []
    },
    {
      "cell_type": "code",
      "source": [
        "##2. Sample App Code\n",
        "\n",
        "#models/Todo.js\n",
        "\n",
        "const mongoose = require('mongoose');\n",
        "\n",
        "const TodoSchema = new mongoose.Schema({\n",
        "  title: String,\n",
        "  completed: Boolean\n",
        "});\n",
        "\n",
        "module.exports = mongoose.model('Todo', TodoSchema);\n",
        "\n",
        "\n",
        "\n",
        "# routes/todo.js\n",
        "\n",
        "const express = require('express');\n",
        "const Todo = require('../models/Todo');\n",
        "const router = express.Router();\n",
        "\n",
        "router.get('/api/get-todo', async (req, res) => {\n",
        "  const todos = await Todo.find();\n",
        "  res.json(todos);\n",
        "});\n",
        "\n",
        "router.post('/api/add-todo', async (req, res) => {\n",
        "  const newTodo = await Todo.create(req.body);\n",
        "  res.status(200).json(newTodo);\n",
        "});\n",
        "\n",
        "module.exports = router;\n",
        "\n",
        "\n",
        "\n",
        "# app.js\n",
        "\n",
        "const express = require('express');\n",
        "const mongoose = require('mongoose');\n",
        "const todoRoutes = require('./routes/todo');\n",
        "\n",
        "const app = express();\n",
        "app.use(express.json());\n",
        "app.use(todoRoutes);\n",
        "\n",
        "module.exports = app;\n"
      ],
      "metadata": {
        "id": "URHCL5CegftE"
      },
      "execution_count": null,
      "outputs": []
    },
    {
      "cell_type": "code",
      "source": [
        "##3. Integration Test Example\n",
        "# __tests__/todoApi.test.js\n",
        "\n",
        "const request = require('supertest');\n",
        "const mongoose = require('mongoose');\n",
        "const { MongoMemoryServer } = require('mongodb-memory-server');\n",
        "const app = require('../app');\n",
        "const Todo = require('../models/Todo');\n",
        "\n",
        "let mongoServer;\n",
        "\n",
        "beforeAll(async () => {\n",
        "  mongoServer = await MongoMemoryServer.create();\n",
        "  const uri = mongoServer.getUri();\n",
        "  await mongoose.connect(uri);\n",
        "});\n",
        "\n",
        "afterAll(async () => {\n",
        "  await mongoose.disconnect();\n",
        "  await mongoServer.stop();\n",
        "});\n",
        "\n",
        "afterEach(async () => {\n",
        "  await Todo.deleteMany(); // Clean DB after each test\n",
        "});\n",
        "\n",
        "describe(\"Integration Tests for Todo API\", () => {\n",
        "\n",
        "  it(\"POST /api/add-todo should create a todo\", async () => {\n",
        "    const response = await request(app)\n",
        "      .post('/api/add-todo')\n",
        "      .post('/api/add-todo')\n",
        "      .send({ title: 'Test Todo', completed: false });\n",
        "\n",
        "    expect(response.statusCode).toBe(201);\n",
        "    expect(response.body.title).toBe('Test Todo');\n",
        "  });\n",
        "  it(\"GET /api/get-todo should return all todos\", async () => {\n",
        "    await Todo.create([\n",
        "      { title: 'Todo 1', completed: false },\n",
        "      { title: 'Todo 2', completed: true }\n",
        "    ]);\n",
        "\n",
        "    const response = await request(app).get('/api/get-todo');\n",
        "    expect(response.statusCode).toBe(200);\n",
        "    expect(response.body.length).toBe(2);\n",
        "  });\n",
        "\n",
        "});\n",
        "\n"
      ],
      "metadata": {
        "id": "Cy6CSN5_gvv3"
      },
      "execution_count": null,
      "outputs": []
    },
    {
      "cell_type": "code",
      "source": [
        "###4. Run the Tests\n",
        "Update package.json:\n",
        "\n",
        "\"scripts\": {\n",
        "  \"test\": \"jest\"\n",
        "}\n",
        "To Run test file use this command:\n",
        "\n",
        "npm test"
      ],
      "metadata": {
        "id": "fpIPJqQhg-Kt"
      },
      "execution_count": null,
      "outputs": []
    },
    {
      "cell_type": "code",
      "source": [],
      "metadata": {
        "id": "VCPrmXV8guqW"
      },
      "execution_count": null,
      "outputs": []
    },
    {
      "cell_type": "code",
      "execution_count": null,
      "metadata": {
        "id": "WqrRU23QgO8l"
      },
      "outputs": [],
      "source": []
    }
  ]
}